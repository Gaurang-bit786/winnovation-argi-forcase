{
 "cells": [
  {
   "cell_type": "code",
   "execution_count": 31,
   "metadata": {},
   "outputs": [
    {
     "name": "stdout",
     "output_type": "stream",
     "text": [
      "['FAQ' 'Non-FAQ' 'Large' 'Medium' 'Small']\n",
      "['Other' 'Spinach' 'Turnip' 'Walnut' 'Local' 'Potato' 'Desi' 'F.A.Q.'\n",
      " 'Red' 'Kufri Khasi_garo' 'Jyoti' '(Red Nanital)' 'Pomogranate' 'Plum'\n",
      " 'Puna' '1st Sort' 'Nasik' 'Onion' 'Mashrooms' 'Black' 'Green'\n",
      " 'Green Ginger' 'Little gourd (Kundru)' 'Pears' 'Peach' 'Average' 'Garlic'\n",
      " 'China' 'Beetroot' 'Bhindi' 'Carrot' 'Cherry' 'Cabbage' 'Cucumbar'\n",
      " 'Cauliflower' 'Delicious' 'American' 'Condition' 'Golden' 'Hajratbali'\n",
      " 'Kullu Royal Delicious' 'Rizakwadi' 'Apple' 'Maharaji' 'Kesri'\n",
      " 'Royal Delicious' 'Kasmir/Shimla - II' 'Simla' 'Apricot(Jardalu/Khumani)'\n",
      " 'Medium' 'Amruthapani' 'Banana - Ripe']\n",
      "['Spinach' 'Turnip' 'Walnut' 'Potato' 'Pomegranate' 'Plum' 'Onion'\n",
      " 'Ginger(Dry)' 'Mashrooms' 'Grapes' 'Ginger(Green)'\n",
      " 'Little gourd (Kundru)' 'Pear(Marasebu)' 'Peach' 'Garlic' 'Beetroot'\n",
      " 'Bhindi(Ladies Finger)' 'Carrot' 'Cherry' 'Cabbage' 'Cucumbar(Kheera)'\n",
      " 'Cauliflower' 'Apple' 'Apricot(Jardalu/Khumani)' 'Banana']\n",
      "['Jammu' 'Anantnag' 'Kathua' 'Srinagar' 'Rajouri' 'Udhampur' 'Kupwara'\n",
      " 'Baramulla' 'Pulwama' 'Badgam']\n"
     ]
    },
    {
     "name": "stderr",
     "output_type": "stream",
     "text": [
      "C:\\Users\\sgaur\\AppData\\Local\\Temp\\ipykernel_4300\\3807374241.py:11: UserWarning: Parsing dates in %d-%m-%Y format when dayfirst=False (the default) was specified. Pass `dayfirst=True` or specify a format to silence this warning.\n",
      "  price_date = pd.to_datetime(df['Price Date'])\n"
     ]
    }
   ],
   "source": [
    "import pandas as pd\n",
    "from datetime import datetime\n",
    "\n",
    "df = pd.read_csv(\"final_merged_dataset (1).csv\")\n",
    "df['price'] = (df['Min Price (Rs./Quintal)'] + df['Max Price (Rs./Quintal)']) /2\n",
    "\n",
    "print(df['Grade'].unique())\n",
    "print(df['Variety'].unique())\n",
    "print(df['Commodity'].unique())\n",
    "print(df['District Name'].unique())\n",
    "price_date = pd.to_datetime(df['Price Date'])\n",
    "target = df.price"
   ]
  },
  {
   "cell_type": "code",
   "execution_count": 28,
   "metadata": {},
   "outputs": [
    {
     "data": {
      "text/plain": [
       "0          800.0\n",
       "1          800.0\n",
       "2          900.0\n",
       "3          900.0\n",
       "4          900.0\n",
       "           ...  \n",
       "102201    4600.0\n",
       "102202    4600.0\n",
       "102203    4600.0\n",
       "102204    4600.0\n",
       "102205    4600.0\n",
       "Name: price, Length: 102206, dtype: float64"
      ]
     },
     "execution_count": 28,
     "metadata": {},
     "output_type": "execute_result"
    }
   ],
   "source": [
    "target"
   ]
  },
  {
   "cell_type": "code",
   "execution_count": 52,
   "metadata": {},
   "outputs": [
    {
     "data": {
      "text/html": [
       "<div>\n",
       "<style scoped>\n",
       "    .dataframe tbody tr th:only-of-type {\n",
       "        vertical-align: middle;\n",
       "    }\n",
       "\n",
       "    .dataframe tbody tr th {\n",
       "        vertical-align: top;\n",
       "    }\n",
       "\n",
       "    .dataframe thead th {\n",
       "        text-align: right;\n",
       "    }\n",
       "</style>\n",
       "<table border=\"1\" class=\"dataframe\">\n",
       "  <thead>\n",
       "    <tr style=\"text-align: right;\">\n",
       "      <th></th>\n",
       "      <th>District Name</th>\n",
       "      <th>Market Name</th>\n",
       "      <th>Commodity</th>\n",
       "      <th>Variety</th>\n",
       "      <th>Grade</th>\n",
       "    </tr>\n",
       "  </thead>\n",
       "  <tbody>\n",
       "    <tr>\n",
       "      <th>0</th>\n",
       "      <td>Jammu</td>\n",
       "      <td>Akhnoor</td>\n",
       "      <td>Spinach</td>\n",
       "      <td>Other</td>\n",
       "      <td>FAQ</td>\n",
       "    </tr>\n",
       "    <tr>\n",
       "      <th>1</th>\n",
       "      <td>Jammu</td>\n",
       "      <td>Akhnoor</td>\n",
       "      <td>Spinach</td>\n",
       "      <td>Other</td>\n",
       "      <td>FAQ</td>\n",
       "    </tr>\n",
       "    <tr>\n",
       "      <th>2</th>\n",
       "      <td>Jammu</td>\n",
       "      <td>Akhnoor</td>\n",
       "      <td>Spinach</td>\n",
       "      <td>Other</td>\n",
       "      <td>FAQ</td>\n",
       "    </tr>\n",
       "    <tr>\n",
       "      <th>3</th>\n",
       "      <td>Jammu</td>\n",
       "      <td>Akhnoor</td>\n",
       "      <td>Spinach</td>\n",
       "      <td>Other</td>\n",
       "      <td>FAQ</td>\n",
       "    </tr>\n",
       "    <tr>\n",
       "      <th>4</th>\n",
       "      <td>Jammu</td>\n",
       "      <td>Akhnoor</td>\n",
       "      <td>Spinach</td>\n",
       "      <td>Other</td>\n",
       "      <td>FAQ</td>\n",
       "    </tr>\n",
       "    <tr>\n",
       "      <th>...</th>\n",
       "      <td>...</td>\n",
       "      <td>...</td>\n",
       "      <td>...</td>\n",
       "      <td>...</td>\n",
       "      <td>...</td>\n",
       "    </tr>\n",
       "    <tr>\n",
       "      <th>102201</th>\n",
       "      <td>Udhampur</td>\n",
       "      <td>Udhampur</td>\n",
       "      <td>Banana</td>\n",
       "      <td>Banana - Ripe</td>\n",
       "      <td>Medium</td>\n",
       "    </tr>\n",
       "    <tr>\n",
       "      <th>102202</th>\n",
       "      <td>Udhampur</td>\n",
       "      <td>Udhampur</td>\n",
       "      <td>Banana</td>\n",
       "      <td>Banana - Ripe</td>\n",
       "      <td>Medium</td>\n",
       "    </tr>\n",
       "    <tr>\n",
       "      <th>102203</th>\n",
       "      <td>Udhampur</td>\n",
       "      <td>Udhampur</td>\n",
       "      <td>Banana</td>\n",
       "      <td>Banana - Ripe</td>\n",
       "      <td>Medium</td>\n",
       "    </tr>\n",
       "    <tr>\n",
       "      <th>102204</th>\n",
       "      <td>Udhampur</td>\n",
       "      <td>Udhampur</td>\n",
       "      <td>Banana</td>\n",
       "      <td>Banana - Ripe</td>\n",
       "      <td>Medium</td>\n",
       "    </tr>\n",
       "    <tr>\n",
       "      <th>102205</th>\n",
       "      <td>Udhampur</td>\n",
       "      <td>Udhampur</td>\n",
       "      <td>Banana</td>\n",
       "      <td>Banana - Ripe</td>\n",
       "      <td>Medium</td>\n",
       "    </tr>\n",
       "  </tbody>\n",
       "</table>\n",
       "<p>102206 rows × 5 columns</p>\n",
       "</div>"
      ],
      "text/plain": [
       "       District Name Market Name Commodity        Variety   Grade\n",
       "0              Jammu     Akhnoor   Spinach          Other     FAQ\n",
       "1              Jammu     Akhnoor   Spinach          Other     FAQ\n",
       "2              Jammu     Akhnoor   Spinach          Other     FAQ\n",
       "3              Jammu     Akhnoor   Spinach          Other     FAQ\n",
       "4              Jammu     Akhnoor   Spinach          Other     FAQ\n",
       "...              ...         ...       ...            ...     ...\n",
       "102201      Udhampur    Udhampur    Banana  Banana - Ripe  Medium\n",
       "102202      Udhampur    Udhampur    Banana  Banana - Ripe  Medium\n",
       "102203      Udhampur    Udhampur    Banana  Banana - Ripe  Medium\n",
       "102204      Udhampur    Udhampur    Banana  Banana - Ripe  Medium\n",
       "102205      Udhampur    Udhampur    Banana  Banana - Ripe  Medium\n",
       "\n",
       "[102206 rows x 5 columns]"
      ]
     },
     "execution_count": 52,
     "metadata": {},
     "output_type": "execute_result"
    }
   ],
   "source": [
    "new_df = df.drop(columns=['price','Min Price (Rs./Quintal)','Max Price (Rs./Quintal)','Temperature','Price Date','Modal Price (Rs./Quintal)'],axis='columns')  \n",
    "new_df"
   ]
  },
  {
   "cell_type": "code",
   "execution_count": null,
   "metadata": {},
   "outputs": [
    {
     "name": "stderr",
     "output_type": "stream",
     "text": [
      "C:\\Users\\sgaur\\AppData\\Local\\Temp\\ipykernel_4300\\3477521695.py:4: UserWarning: Parsing dates in %d-%m-%Y format when dayfirst=False (the default) was specified. Pass `dayfirst=True` or specify a format to silence this warning.\n",
      "  for date in pd.to_datetime(df['Price Date']):\n"
     ]
    }
   ],
   "source": [
    "month = [] \n",
    "year = [] \n",
    "\n",
    "for date in pd.to_datetime(df['Price Date']):\n",
    "    month.append(date.month)\n",
    "    year.append(date.year)\n",
    "\n",
    "new_df['month'] = month \n",
    "new_df['year'] = year \n"
   ]
  },
  {
   "cell_type": "code",
   "execution_count": null,
   "metadata": {},
   "outputs": [
    {
     "data": {
      "text/plain": [
       "0          800.0\n",
       "1          800.0\n",
       "2          900.0\n",
       "3          900.0\n",
       "4          900.0\n",
       "           ...  \n",
       "102201    4600.0\n",
       "102202    4600.0\n",
       "102203    4600.0\n",
       "102204    4600.0\n",
       "102205    4600.0\n",
       "Name: price, Length: 102206, dtype: float64"
      ]
     },
     "execution_count": 108,
     "metadata": {},
     "output_type": "execute_result"
    }
   ],
   "source": [
    "from sklearn.preprocessing import LabelEncoder\n",
    "district_list = []\n",
    "\n",
    "le = LabelEncoder()\n",
    "\n",
    "new_df['district_label'] = le.fit_transform(new_df['District Name'])\n",
    "new_df['market_label'] = le.fit_transform(new_df['Market Name'])\n",
    "new_df['commodity_label'] = le.fit_transform(new_df['Commodity'])\n",
    "new_df['variety_label'] = le.fit_transform(new_df['Variety'])\n",
    "new_df['grade_label'] = le.fit_transform(new_df['Grade'])\n",
    "  \n",
    "\n",
    "df_new_one = new_df.drop(columns=['District Name','Market Name','Commodity','Variety','Grade'],axis='columns')\n",
    "df_new_one\n",
    "target\n"
   ]
  },
  {
   "cell_type": "code",
   "execution_count": 114,
   "metadata": {},
   "outputs": [],
   "source": [
    "from sklearn.model_selection import train_test_split\n",
    "X_test, X_train, y_test, y_train  = train_test_split(df_new_one,target, test_size=0.2, random_state=42)"
   ]
  },
  {
   "cell_type": "code",
   "execution_count": 117,
   "metadata": {},
   "outputs": [
    {
     "name": "stdout",
     "output_type": "stream",
     "text": [
      "20442\n",
      "20442\n"
     ]
    }
   ],
   "source": [
    "print(len(X_train))\n",
    "print(len(y_train))"
   ]
  },
  {
   "cell_type": "code",
   "execution_count": 119,
   "metadata": {},
   "outputs": [
    {
     "name": "stdout",
     "output_type": "stream",
     "text": [
      "<bound method RegressorMixin.score of LinearRegression()>\n"
     ]
    }
   ],
   "source": [
    "from sklearn.linear_model import LinearRegression\n",
    "from sklearn.tree import DecisionTreeRegressor\n",
    "from sklearn.ensemble import RandomForestRegressor\n",
    "linear_model = LinearRegression()\n",
    "decision_model = DecisionTreeRegressor()\n",
    "random_forest_model = RandomForestRegressor()\n",
    "# model.fit(df_num_tr, df_labels)\n",
    "linear_model.fit(X_train,y_train)\n",
    "decision_model.fit(X_train,y_train)\n",
    "random_forest_model.fit(X_train,y_train)\n",
    "print(linear_model.score)"
   ]
  },
  {
   "cell_type": "code",
   "execution_count": 131,
   "metadata": {},
   "outputs": [
    {
     "name": "stdout",
     "output_type": "stream",
     "text": [
      "0.11906076285256895\n",
      "0.9416852350719042\n",
      "0.94771321529952\n"
     ]
    }
   ],
   "source": [
    "from sklearn.metrics import r2_score, confusion_matrix\n",
    "\n",
    "linear_predict = linear_model.predict(X_test)\n",
    "print(r2_score(y_test,linear_predict))\n",
    "\n",
    "\n",
    "decision_model_predict = decision_model.predict(X_test)\n",
    "print(r2_score(y_test,decision_model_predict))\n",
    "\n",
    "\n",
    "random_forest_model_predict = random_forest_model.predict(X_test)\n",
    "print(r2_score(y_test,random_forest_model_predict))\n",
    "\n",
    "\n"
   ]
  },
  {
   "cell_type": "code",
   "execution_count": null,
   "metadata": {},
   "outputs": [
    {
     "name": "stdout",
     "output_type": "stream",
     "text": [
      "[5694.98860792]\n"
     ]
    },
    {
     "name": "stderr",
     "output_type": "stream",
     "text": [
      "e:\\ERP\\env\\lib\\site-packages\\sklearn\\base.py:465: UserWarning: X does not have valid feature names, but LinearRegression was fitted with feature names\n",
      "  warnings.warn(\n"
     ]
    }
   ],
   "source": [
    "import matplotlib.pyplot as plt \n",
    "from numpy import array\n",
    "y_predict = linear_model.predict([[11,2025,0,7,0,38,2]])\n",
    "\n",
    "# [4509.93954043]\n",
    "# [5102.46407418]\n",
    "# [5694.98860792]\n",
    "\n",
    "\n",
    "\n",
    "# linear_model.predict()\n",
    "print(y_predict)\n",
    "# print(y_test)"
   ]
  },
  {
   "cell_type": "code",
   "execution_count": 170,
   "metadata": {},
   "outputs": [
    {
     "name": "stdout",
     "output_type": "stream",
     "text": [
      "I create a model which has 7 parameter. My prediction in [5694.98860792] and input is [11, 2025, 0, 7, 0, 38, 2]. I am using linear regression. Tell me the answer is correct or not.\n",
      "content=\"To determine if your model's prediction is correct, we need to know what the true output of your model should be for the given input.\\n\\nSince you didn't provide any information about the target variable (the variable you're trying to predict), I'll assume that your model is a simple linear regression model with a single output parameter.\\n\\nTo verify the correctness of your prediction, I would need more context or information about:\\n\\n1. The relationship between the input features and the target variable.\\n2. The coefficients of the linear regression model (i.e., the weights for each feature).\\n3. Any training data used to train the model.\\n\\nWithout this information, it's difficult to provide a definitive answer on whether your prediction is correct or not.\\n\\nHowever, if you can provide me with some of these details or more context about your problem, I'd be happy to try and help you verify the correctness of your prediction.\" response_metadata={'model': 'llama3.2', 'created_at': '2025-03-29T12:28:22.0269916Z', 'message': {'role': 'assistant', 'content': ''}, 'done_reason': 'stop', 'done': True, 'total_duration': 20598657000, 'load_duration': 34758400, 'prompt_eval_count': 86, 'prompt_eval_duration': 2111000000, 'eval_count': 183, 'eval_duration': 18446000000} id='run-19f360af-57fe-4d39-b615-b0841e4dc659-0'\n"
     ]
    }
   ],
   "source": [
    "from langchain_community.chat_models import ChatOllama\n",
    "from langchain.schema import HumanMessage\n",
    "\n",
    "\n",
    "user_input = f\"I create a model which has 7 parameter. My prediction in {y_predict} and input is {[11,2025,0,7,0,38,2]}. I am using linear regression. Tell me the answer is correct or not.\"\n",
    "print(user_input)\n",
    "chat_model = ChatOllama(model=\"llama3.2\")\n",
    "\n",
    "response = chat_model([HumanMessage(content=user_input)])\n",
    "print(response)\n"
   ]
  }
 ],
 "metadata": {
  "kernelspec": {
   "display_name": "env",
   "language": "python",
   "name": "python3"
  },
  "language_info": {
   "codemirror_mode": {
    "name": "ipython",
    "version": 3
   },
   "file_extension": ".py",
   "mimetype": "text/x-python",
   "name": "python",
   "nbconvert_exporter": "python",
   "pygments_lexer": "ipython3",
   "version": "3.8.10"
  }
 },
 "nbformat": 4,
 "nbformat_minor": 2
}
